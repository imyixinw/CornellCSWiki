{
  "cells": [
    {
      "cell_type": "markdown",
      "metadata": {
        "id": "view-in-github",
        "colab_type": "text"
      },
      "source": [
        "<a href=\"https://colab.research.google.com/github/imyixinw/CornellCSWiki/blob/master/2-conv1d_gpu.ipynb\" target=\"_parent\"><img src=\"https://colab.research.google.com/assets/colab-badge.svg\" alt=\"Open In Colab\"/></a>"
      ]
    },
    {
      "cell_type": "markdown",
      "metadata": {
        "id": "9eGZIh3o1xch"
      },
      "source": [
        "# 1D Convolution on GPU"
      ]
    },
    {
      "cell_type": "markdown",
      "metadata": {
        "id": "zOEQo1pd1ddO"
      },
      "source": [
        "## 1. Set-up"
      ]
    },
    {
      "cell_type": "code",
      "execution_count": 3,
      "metadata": {
        "id": "9xe2GRFj1ddO",
        "colab": {
          "base_uri": "https://localhost:8080/"
        },
        "outputId": "a6b4f45a-4916-496b-d3e1-bbf2be368523"
      },
      "outputs": [
        {
          "output_type": "stream",
          "name": "stdout",
          "text": [
            "Drive already mounted at /content/gdrive; to attempt to forcibly remount, call drive.mount(\"/content/gdrive\", force_remount=True).\n"
          ]
        }
      ],
      "source": [
        "# Mount google drive\n",
        "from google.colab import drive\n",
        "drive.mount('/content/gdrive')"
      ]
    },
    {
      "cell_type": "code",
      "execution_count": 4,
      "metadata": {
        "id": "CA1bjoZe1ddP"
      },
      "outputs": [],
      "source": [
        "# Make sure your token is stored in a txt file at the location below.\n",
        "# This way there is no risk that you will push it to your repo\n",
        "# Never share your token with anyone, it is basically your github password!\n",
        "with open('/content/gdrive/MyDrive/ece5545/token.txt') as f:\n",
        "    token = f.readline().strip()\n",
        "# Use another file to store your github username\n",
        "with open('/content/gdrive/MyDrive/ece5545/git_username.txt') as f:\n",
        "    handle = f.readline().strip()"
      ]
    },
    {
      "cell_type": "code",
      "execution_count": 5,
      "metadata": {
        "id": "d_GTOcdm1ddQ",
        "colab": {
          "base_uri": "https://localhost:8080/"
        },
        "outputId": "3baecfb4-93ab-4e6d-876d-c133de05ec68"
      },
      "outputs": [
        {
          "output_type": "stream",
          "name": "stdout",
          "text": [
            "mkdir: cannot create directory ‘/content/gdrive/MyDrive/ece5545’: File exists\n",
            "/content/gdrive/MyDrive/ece5545\n",
            "fatal: destination path 'a3-imyixinw' already exists and is not an empty directory.\n",
            "/content/gdrive/MyDrive/ece5545/a3-imyixinw\n",
            "M\tsrc/ops.py\n",
            "Already on 'main'\n",
            "Your branch is up to date with 'origin/main'.\n",
            "Already up to date.\n",
            "/content/gdrive/MyDrive/ece5545\n"
          ]
        }
      ],
      "source": [
        "# Clone your github repo\n",
        "YOUR_TOKEN = token\n",
        "YOUR_HANDLE = handle\n",
        "BRANCH = \"main\"\n",
        "\n",
        "%mkdir /content/gdrive/MyDrive/ece5545\n",
        "%cd /content/gdrive/MyDrive/ece5545\n",
        "!git clone https://{YOUR_TOKEN}@github.com/ML-HW-SYS/a3-{YOUR_HANDLE}.git\n",
        "%cd /content/gdrive/MyDrive/ece5545/a3-{YOUR_HANDLE}\n",
        "!git checkout {BRANCH}\n",
        "!git pull\n",
        "%cd /content/gdrive/MyDrive/ece5545\n",
        "\n",
        "PROJECT_ROOT = f\"/content/gdrive/MyDrive/ece5545/a3-{YOUR_HANDLE}\""
      ]
    },
    {
      "cell_type": "code",
      "execution_count": 6,
      "metadata": {
        "id": "AOFOUrP81ddQ"
      },
      "outputs": [],
      "source": [
        "# This extension reloads all imports before running each cell\n",
        "%load_ext autoreload\n",
        "%autoreload 2"
      ]
    },
    {
      "cell_type": "code",
      "execution_count": 7,
      "metadata": {
        "id": "0VDBYN2Z1ddS",
        "colab": {
          "base_uri": "https://localhost:8080/"
        },
        "outputId": "5f275ff6-19ac-43c3-a26e-0ad2aa00733d"
      },
      "outputs": [
        {
          "output_type": "stream",
          "name": "stdout",
          "text": [
            "1-conv1d_cpu.ipynb  3-conv1d_fpga.ipynb  5-conv2d_dw_gpu.ipynb\tREADME.md  tests\n",
            "2-conv1d_gpu.ipynb  4-gemm_gpu.ipynb\t leaderboard_id.txt\tsrc\n"
          ]
        }
      ],
      "source": [
        "!ls {PROJECT_ROOT}"
      ]
    },
    {
      "cell_type": "markdown",
      "metadata": {
        "id": "ircHNs-j2DYX"
      },
      "source": [
        "## 2. Install TVM"
      ]
    },
    {
      "cell_type": "code",
      "execution_count": 6,
      "metadata": {
        "id": "WJpFlXLd1_K5",
        "colab": {
          "base_uri": "https://localhost:8080/"
        },
        "outputId": "b3a9b842-92c7-45e8-c3c3-c270ffdd333b"
      },
      "outputs": [
        {
          "output_type": "stream",
          "name": "stdout",
          "text": [
            "Requirement already satisfied: numpy==1.24.3 in /usr/local/lib/python3.11/dist-packages (1.24.3)\n",
            "Looking in links: https://tlcpack.ai/wheels\n",
            "Collecting tlcpack-nightly-cu102\n",
            "  Downloading https://github.com/tlc-pack/tlcpack/releases/download/v0.12.dev/tlcpack_nightly_cu102-0.15.dev118%2Bg51bdaec6e-cp311-cp311-manylinux_2_17_x86_64.manylinux2014_x86_64.whl (428.5 MB)\n",
            "\u001b[2K     \u001b[90m━━━━━━━━━━━━━━━━━━━━━━━━━━━━━━━━━━━━━━━━\u001b[0m \u001b[32m428.5/428.5 MB\u001b[0m \u001b[31m3.5 MB/s\u001b[0m eta \u001b[36m0:00:00\u001b[0m\n",
            "\u001b[?25hRequirement already satisfied: attrs in /usr/local/lib/python3.11/dist-packages (from tlcpack-nightly-cu102) (25.3.0)\n",
            "Requirement already satisfied: cloudpickle in /usr/local/lib/python3.11/dist-packages (from tlcpack-nightly-cu102) (3.1.1)\n",
            "Requirement already satisfied: decorator in /usr/local/lib/python3.11/dist-packages (from tlcpack-nightly-cu102) (4.4.2)\n",
            "Requirement already satisfied: ml-dtypes in /usr/local/lib/python3.11/dist-packages (from tlcpack-nightly-cu102) (0.4.1)\n",
            "Requirement already satisfied: numpy in /usr/local/lib/python3.11/dist-packages (from tlcpack-nightly-cu102) (1.24.3)\n",
            "Requirement already satisfied: psutil in /usr/local/lib/python3.11/dist-packages (from tlcpack-nightly-cu102) (5.9.5)\n",
            "Requirement already satisfied: scipy in /usr/local/lib/python3.11/dist-packages (from tlcpack-nightly-cu102) (1.14.1)\n",
            "Requirement already satisfied: tornado in /usr/local/lib/python3.11/dist-packages (from tlcpack-nightly-cu102) (6.4.2)\n",
            "Requirement already satisfied: typing-extensions in /usr/local/lib/python3.11/dist-packages (from tlcpack-nightly-cu102) (4.13.1)\n",
            "Installing collected packages: tlcpack-nightly-cu102\n",
            "Successfully installed tlcpack-nightly-cu102-0.15.dev118+g51bdaec6e\n"
          ]
        }
      ],
      "source": [
        "# !pip install tlcpack-nightly-cu102 -f https://tlcpack.ai/wheels\n",
        "\n",
        "!pip install numpy==1.24.3\n",
        "!pip install tlcpack-nightly-cu102 -f https://tlcpack.ai/wheels"
      ]
    },
    {
      "cell_type": "markdown",
      "metadata": {
        "id": "aVzL-yHx1ddS"
      },
      "source": [
        "## 3. Implement `make_conv1d_gpu_scheduler_func` function in `src.ops`\n",
        "\n",
        "In that function, you are required to implemented 1D convolution and use TVM to optimize it.\n",
        "Let $x \\in \\mathbb{R}^m$ and $y \\in \\mathbb{R}^n$, then\n",
        "$$\n",
        "\\operatorname{conv1d}(x, y)_i = \\sum_{j=-\\infty}^{\\infty} x[j]y[i-j], \\forall i \\in \\{0, 1, \\dots, m + n - 1\\}\n",
        "$$\n",
        "\n",
        "Please use zero padding and unit stride. Please see the numpy convolution function for more detail: [link](https://numpy.org/doc/stable/reference/generated/numpy.convolve.html).\n",
        "\n",
        "The `make_conv1d_gpu_scheduler_func` takes $m$ and $n$, which are the size of the two 1D input array.\n",
        "You should return both the TVM scheduler and the TVM opterator for\n",
        "1. Input $x$\n",
        "2. Input $y$\n",
        "3. Output $out$\n",
        "\n",
        "The scheduler should be able to used to build a function with signature $func(x, y, out)$.\n",
        "Please see the following cells for usage."
      ]
    },
    {
      "cell_type": "code",
      "source": [
        "import tvm\n",
        "import numpy as np\n",
        "import sys\n",
        "# Adding assignment 3 to the system path\n",
        "# Make sure this matches your git directory\n",
        "sys.path.insert(0, PROJECT_ROOT)\n",
        "from src.ops import (\n",
        "    make_conv1d_gpu_baseline,\n",
        "    make_conv1d_gpu_refactored,\n",
        "    make_conv1d_gpu_vectorize,\n",
        "    make_conv1d_gpu_reorder,\n",
        "    make_conv1d_gpu_shared_memory,\n",
        "    make_conv1d_gpu_scheduler  # optimized version\n",
        ")\n",
        "\n",
        "M = 16384\n",
        "N = 32\n",
        "dtype = 'float32'\n",
        "a_np = np.random.rand(M).astype(dtype)\n",
        "w_np = np.random.rand(N).astype(dtype)\n",
        "b_np = np.convolve(a_np, w_np)\n",
        "\n",
        "optimization_funcs = {\n",
        "    \"baseline\": make_conv1d_gpu_baseline,\n",
        "    \"refactored\": make_conv1d_gpu_refactored,\n",
        "    \"vectorize\": make_conv1d_gpu_vectorize,\n",
        "    \"reorder\": make_conv1d_gpu_reorder,\n",
        "    \"shared_memory\": make_conv1d_gpu_shared_memory,\n",
        "    \"optimized\": make_conv1d_gpu_scheduler,\n",
        "}\n",
        "op_runtimes = {}\n",
        "\n",
        "\n",
        "for name, make_schedule in optimization_funcs.items():\n",
        "    print(f'Running {name}...')\n",
        "    s, A, W, B = make_schedule(M, N)\n",
        "    func = tvm.build(s, [A, W, B], \"cuda\")\n",
        "\n",
        "    dev = tvm.cuda(0)\n",
        "    a = tvm.nd.array(a_np, dev)\n",
        "    w = tvm.nd.array(w_np, dev)\n",
        "    b = tvm.nd.array(np.zeros((M+N-1), dtype), dev)\n",
        "    func(a, w, b)\n",
        "    evaluator = func.time_evaluator(func.entry_name, dev, number=1, repeat =1)\n",
        "\n",
        "\n",
        "    print(\"Answer:\", b_np)\n",
        "    print(\"Output:\", b)\n",
        "    correct = np.allclose(b_np, b.numpy(), atol=1e-5)\n",
        "    print('Correct:', correct)\n",
        "    runtime_ms = evaluator(a, w, b).mean * 1e3\n",
        "    print(f\"1D conv TVM runtime: {runtime_ms:.6f} ms\")\n",
        "\n",
        "    op_runtimes[name] = runtime_ms\n",
        "\n",
        "    print()\n",
        "\n",
        "print(op_runtimes)"
      ],
      "metadata": {
        "colab": {
          "base_uri": "https://localhost:8080/"
        },
        "id": "iy5OAGl9VIdB",
        "outputId": "caf51839-d98e-469c-fab1-3821ddcffb02"
      },
      "execution_count": 101,
      "outputs": [
        {
          "output_type": "stream",
          "name": "stdout",
          "text": [
            "Running baseline...\n",
            "Answer: [0.05131403 0.15750907 0.08065948 ... 0.969927   0.47037837 0.27748698]\n",
            "Output: [0.05131403 0.15750907 0.08065948 ... 0.969927   0.47037837 0.27748698]\n",
            "Correct: True\n",
            "1D conv TVM runtime: 46.322689 ms\n",
            "\n",
            "Running refactored...\n",
            "Answer: [0.05131403 0.15750907 0.08065948 ... 0.969927   0.47037837 0.27748698]\n",
            "Output: [0.05131403 0.15750907 0.08065948 ... 0.96992695 0.47037837 0.27748698]\n",
            "Correct: True\n",
            "1D conv TVM runtime: 0.014336 ms\n",
            "\n",
            "Running vectorize...\n",
            "Answer: [0.05131403 0.15750907 0.08065948 ... 0.969927   0.47037837 0.27748698]\n",
            "Output: [0.05131403 0.15750907 0.08065948 ... 0.96992695 0.47037837 0.27748698]\n",
            "Correct: True\n",
            "1D conv TVM runtime: 0.013952 ms\n",
            "\n",
            "Running reorder...\n",
            "Answer: [0.05131403 0.15750907 0.08065948 ... 0.969927   0.47037837 0.27748698]\n",
            "Output: [0.05131403 0.15750907 0.08065948 ... 0.96992695 0.47037837 0.27748698]\n",
            "Correct: True\n",
            "1D conv TVM runtime: 0.013887 ms\n",
            "\n",
            "Running shared_memory...\n",
            "Answer: [0.05131403 0.15750907 0.08065948 ... 0.969927   0.47037837 0.27748698]\n",
            "Output: [0.05131403 0.15750907 0.08065948 ... 0.96992695 0.47037837 0.27748698]\n",
            "Correct: True\n",
            "1D conv TVM runtime: 0.030079 ms\n",
            "\n",
            "Running optimized...\n",
            "Answer: [0.05131403 0.15750907 0.08065948 ... 0.969927   0.47037837 0.27748698]\n",
            "Output: [0.05131403 0.15750907 0.08065948 ... 0.96992695 0.47037837 0.27748698]\n",
            "Correct: True\n",
            "1D conv TVM runtime: 0.016095 ms\n",
            "\n",
            "{'baseline': 46.322689, 'refactored': 0.014336, 'vectorize': 0.013952, 'reorder': 0.013887, 'shared_memory': 0.030079, 'optimized': 0.016095}\n"
          ]
        }
      ]
    },
    {
      "cell_type": "code",
      "execution_count": 76,
      "metadata": {
        "id": "dUT5WMw41ddU",
        "colab": {
          "base_uri": "https://localhost:8080/"
        },
        "outputId": "cec98975-295f-4687-fe10-af3897ab19a3"
      },
      "outputs": [
        {
          "output_type": "stream",
          "name": "stdout",
          "text": [
            "# from tvm.script import ir as I\n",
            "# from tvm.script import tir as T\n",
            "\n",
            "@I.ir_module\n",
            "class Module:\n",
            "    @T.prim_func\n",
            "    def main(A: T.Buffer((16384,), \"float32\"), W: T.Buffer((32,), \"float32\"), B: T.Buffer((16415,), \"float32\")):\n",
            "        T.func_attr({\"from_legacy_te_schedule\": T.bool(True), \"tir.noalias\": T.bool(True)})\n",
            "        blockIdx_x = T.launch_thread(\"blockIdx.x\", 257)\n",
            "        threadIdx_x = T.launch_thread(\"threadIdx.x\", 64)\n",
            "        if T.likely(blockIdx_x * 64 + threadIdx_x < 16415):\n",
            "            B[blockIdx_x * 64 + threadIdx_x] = T.float32(0)\n",
            "        for k in range(32):\n",
            "            if T.likely(blockIdx_x * 64 + threadIdx_x < 16415):\n",
            "                B[blockIdx_x * 64 + threadIdx_x] = B[blockIdx_x * 64 + threadIdx_x] + T.if_then_else(16384 <= blockIdx_x * 64 + threadIdx_x - k, T.float32(0), A[blockIdx_x * 64 + threadIdx_x - k]) * W[k]\n"
          ]
        }
      ],
      "source": [
        "print(tvm.lower(s, [A, W, B], simple_mode=True))"
      ]
    },
    {
      "cell_type": "code",
      "execution_count": 77,
      "metadata": {
        "id": "1_6kV5BU1ddU",
        "scrolled": false,
        "colab": {
          "base_uri": "https://localhost:8080/"
        },
        "outputId": "aeb72ea1-cef1-4a72-9ce0-d78a71913563"
      },
      "outputs": [
        {
          "output_type": "stream",
          "name": "stdout",
          "text": [
            "/content/gdrive/MyDrive/ece5545/a3-imyixinw\n",
            "\u001b[1m======================================= test session starts ========================================\u001b[0m\n",
            "platform linux -- Python 3.11.11, pytest-8.3.5, pluggy-1.5.0\n",
            "rootdir: /content/gdrive/MyDrive/ece5545/a3-imyixinw\n",
            "plugins: typeguard-4.4.2, anyio-4.9.0, langsmith-0.3.23\n",
            "collected 15 items                                                                                 \u001b[0m\n",
            "\n",
            "tests/test_1dconv_gpu.py \u001b[32m.\u001b[0m\u001b[32m.\u001b[0m\u001b[32m.\u001b[0m\u001b[32m.\u001b[0m\u001b[32m.\u001b[0m\u001b[32m.\u001b[0m\u001b[32m.\u001b[0m\u001b[32m.\u001b[0m\u001b[32m.\u001b[0m\u001b[32m.\u001b[0m\u001b[32m.\u001b[0m\u001b[32m.\u001b[0m\u001b[32m.\u001b[0m\u001b[32m.\u001b[0m\u001b[32m.\u001b[0m\u001b[32m                                                     [100%]\u001b[0m\n",
            "\n",
            "\u001b[32m======================================= \u001b[32m\u001b[1m15 passed\u001b[0m\u001b[32m in 11.48s\u001b[0m\u001b[32m ========================================\u001b[0m\n"
          ]
        }
      ],
      "source": [
        "%cd {PROJECT_ROOT}\n",
        "!python -m pytest tests/test_1dconv_gpu.py"
      ]
    },
    {
      "cell_type": "code",
      "source": [
        "op_runtimes"
      ],
      "metadata": {
        "colab": {
          "base_uri": "https://localhost:8080/"
        },
        "id": "1Pekn8Q6TtY6",
        "outputId": "ca17da6d-ea14-42cf-c2f8-08e346154e64"
      },
      "execution_count": 102,
      "outputs": [
        {
          "output_type": "execute_result",
          "data": {
            "text/plain": [
              "{'baseline': 46.322689,\n",
              " 'refactored': 0.014336,\n",
              " 'vectorize': 0.013952,\n",
              " 'reorder': 0.013887,\n",
              " 'shared_memory': 0.030079,\n",
              " 'optimized': 0.016095}"
            ]
          },
          "metadata": {},
          "execution_count": 102
        }
      ]
    },
    {
      "cell_type": "code",
      "source": [
        "import matplotlib.pyplot as plt\n",
        "import numpy as np\n",
        "\n",
        "labels = list(op_runtimes.keys())\n",
        "runtimes = list(op_runtimes.values())\n",
        "\n",
        "plt.figure(figsize=(10, 6))\n",
        "\n",
        "bars = plt.bar(labels, runtimes, color='lightblue')\n",
        "\n",
        "for bar, rt in zip(bars, runtimes):\n",
        "    yval = bar.get_height()\n",
        "    plt.text(bar.get_x() + bar.get_width()/2, yval, f'{rt:.3f}', ha='center', va='bottom')\n",
        "\n",
        "plt.ylabel('Runtime (ms, log scale)')\n",
        "plt.yscale('log')\n",
        "plt.xticks(rotation=45)\n",
        "plt.tight_layout()\n",
        "plt.show()\n"
      ],
      "metadata": {
        "colab": {
          "base_uri": "https://localhost:8080/",
          "height": 425
        },
        "id": "BmeICEq6TuZN",
        "outputId": "abfb06e6-51f1-4036-d1bf-995be214cf29"
      },
      "execution_count": 16,
      "outputs": [
        {
          "output_type": "display_data",
          "data": {
            "text/plain": [
              "<Figure size 1000x600 with 1 Axes>"
            ],
            "image/png": "[encoded data removed]"
          },
          "metadata": {}
        }
      ]
    },
    {
      "cell_type": "code",
      "source": [
        "relative_runtimes = [x - op_runtimes['baseline'] for x in runtimes][1:]\n",
        "\n",
        "plt.figure(figsize=(10, 6))\n",
        "\n",
        "bars = plt.bar(labels[1:], relative_runtimes, color='lightblue')\n",
        "\n",
        "for bar, rt in zip(bars, relative_runtimes):\n",
        "    yval = bar.get_height()\n",
        "    plt.text(bar.get_x() + bar.get_width()/2, yval, f'{rt:.3f}', ha='center', va='bottom')\n",
        "\n",
        "plt.axhline(y=0, color='r', linestyle='--')\n",
        "plt.ylabel('Relative Runtime (ms)')\n",
        "plt.ylim(-50, 1)\n",
        "plt.xticks(rotation=45)\n",
        "plt.yticks([])\n",
        "plt.tight_layout()\n",
        "plt.show()"
      ],
      "metadata": {
        "colab": {
          "base_uri": "https://localhost:8080/",
          "height": 425
        },
        "id": "cIA-46T6URKO",
        "outputId": "2812a0fc-947f-4430-fcdc-abece7f9afff"
      },
      "execution_count": 17,
      "outputs": [
        {
          "output_type": "display_data",
          "data": {
            "text/plain": [
              "<Figure size 1000x600 with 1 Axes>"
            ],
            "image/png": "[encoded data removed]"
          },
          "metadata": {}
        }
      ]
    },
    {
      "cell_type": "code",
      "source": [
        "!git config --global user.email 'wangyixin2002@gmail.com'\n",
        "!git config --global user.name 'imyixinw'\n",
        "\n",
        "%cd /content/gdrive/MyDrive/ece5545/a3-{YOUR_HANDLE}\n",
        "\n",
        "!git pull --rebase origin main\n",
        "\n",
        "!git add src/ops.py\n",
        "!git commit -m 'update ops.py for part 2'\n",
        "!git push origin main"
      ],
      "metadata": {
        "colab": {
          "base_uri": "https://localhost:8080/"
        },
        "id": "kkaypbDPWKPY",
        "outputId": "eeb6230f-036f-4e9b-f434-4d0bf8f732e2"
      },
      "execution_count": 9,
      "outputs": [
        {
          "output_type": "stream",
          "name": "stdout",
          "text": [
            "/content/gdrive/MyDrive/ece5545/a3-imyixinw\n",
            "error: cannot pull with rebase: You have unstaged changes.\n",
            "error: please commit or stash them.\n",
            "[main c47f7ea] update ops.py for part 2\n",
            " 1 file changed, 7 insertions(+), 6 deletions(-)\n",
            "Enumerating objects: 7, done.\n",
            "Counting objects: 100% (7/7), done.\n",
            "Delta compression using up to 2 threads\n",
            "Compressing objects: 100% (4/4), done.\n",
            "Writing objects: 100% (4/4), 465 bytes | 77.00 KiB/s, done.\n",
            "Total 4 (delta 2), reused 0 (delta 0), pack-reused 0\n",
            "remote: Resolving deltas: 100% (2/2), completed with 2 local objects.\u001b[K\n",
            "To https://github.com/ML-HW-SYS/a3-imyixinw.git\n",
            "   7e25a74..c47f7ea  main -> main\n"
          ]
        }
      ]
    },
    {
      "cell_type": "code",
      "source": [
        "import tvm\n",
        "import numpy as np\n",
        "import sys\n",
        "# Adding assignment 3 to the system path\n",
        "# Make sure this matches your git directory\n",
        "sys.path.insert(0, PROJECT_ROOT)\n",
        "from src.ops import make_conv1d_gpu_baseline\n",
        "\n",
        "M = 16384\n",
        "N = 32\n",
        "dtype = 'float32'\n",
        "a_np = np.random.rand(M).astype(dtype)\n",
        "w_np = np.random.rand(N).astype(dtype)\n",
        "b_np = np.convolve(a_np, w_np)\n",
        "\n",
        "s, A, W, B = make_conv1d_gpu_baseline(M, N)\n",
        "func = tvm.build(s, [A, W, B], \"cuda\")\n",
        "\n",
        "dev = tvm.cuda(0)\n",
        "a = tvm.nd.array(a_np, dev)\n",
        "w = tvm.nd.array(w_np, dev)\n",
        "b = tvm.nd.array(np.zeros((M+N-1), dtype), dev)\n",
        "func(a, w, b)\n",
        "evaluator = func.time_evaluator(func.entry_name, dev, number=1, repeat =1)\n",
        "\n",
        "\n",
        "print(\"Answer:\", b_np)\n",
        "print(\"Output:\", b)\n",
        "print(f\"1DConv TVM: %f ms\" % (evaluator(a, w, b).mean * 1e3))"
      ],
      "metadata": {
        "colab": {
          "base_uri": "https://localhost:8080/"
        },
        "id": "kMJsrjLjOnib",
        "outputId": "598f7abe-959f-4640-e499-c75ed2956789"
      },
      "execution_count": 67,
      "outputs": [
        {
          "output_type": "stream",
          "name": "stdout",
          "text": [
            "Answer: [0.00933708 0.17073123 0.8893703  ... 1.5464524  0.85068005 0.44888914]\n",
            "Output: [0.00933708 0.17073123 0.8893703  ... 1.5464524  0.85068005 0.44888914]\n",
            "1DConv TVM: 46.285568 ms\n"
          ]
        }
      ]
    }
  ],
  "metadata": {
    "accelerator": "GPU",
    "colab": {
      "name": "2-conv1d_gpu.ipynb",
      "provenance": [],
      "gpuType": "T4",
      "include_colab_link": true
    },
    "kernelspec": {
      "display_name": "Python 3",
      "name": "python3"
    },
    "language_info": {
      "codemirror_mode": {
        "name": "ipython",
        "version": 3
      },
      "file_extension": ".py",
      "mimetype": "text/x-python",
      "name": "python",
      "nbconvert_exporter": "python",
      "pygments_lexer": "ipython3",
      "version": "3.8.3"
    }
  },
  "nbformat": 4,
  "nbformat_minor": 0
}